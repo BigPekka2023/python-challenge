{
 "cells": [
  {
   "cell_type": "code",
   "execution_count": 2,
   "id": "5b3a2e32",
   "metadata": {},
   "outputs": [
    {
     "name": "stdout",
     "output_type": "stream",
     "text": [
      "        Ballot ID     County                Candidate\n",
      "0         1323913  Jefferson  Charles Casper Stockham\n",
      "1         1005842  Jefferson  Charles Casper Stockham\n",
      "2         1880345  Jefferson  Charles Casper Stockham\n",
      "3         1600337  Jefferson  Charles Casper Stockham\n",
      "4         1835994  Jefferson  Charles Casper Stockham\n",
      "...           ...        ...                      ...\n",
      "369706    4714953   Arapahoe     Raymon Anthony Doane\n",
      "369707    4497542   Arapahoe     Raymon Anthony Doane\n",
      "369708    4085849   Arapahoe     Raymon Anthony Doane\n",
      "369709    4592018   Arapahoe     Raymon Anthony Doane\n",
      "369710    4660518   Arapahoe     Raymon Anthony Doane\n",
      "\n",
      "[369711 rows x 3 columns]\n"
     ]
    }
   ],
   "source": [
    "import numpy as np\n",
    "import pandas as pd \n",
    "file_path = (\"election_data.csv\")\n",
    "df = pd.read_csv(file_path)\n",
    "print(df) "
   ]
  },
  {
   "cell_type": "code",
   "execution_count": null,
   "id": "e53d0ec2",
   "metadata": {},
   "outputs": [],
   "source": []
  }
 ],
 "metadata": {
  "kernelspec": {
   "display_name": "Python 3 (ipykernel)",
   "language": "python",
   "name": "python3"
  },
  "language_info": {
   "codemirror_mode": {
    "name": "ipython",
    "version": 3
   },
   "file_extension": ".py",
   "mimetype": "text/x-python",
   "name": "python",
   "nbconvert_exporter": "python",
   "pygments_lexer": "ipython3",
   "version": "3.11.4"
  }
 },
 "nbformat": 4,
 "nbformat_minor": 5
}
