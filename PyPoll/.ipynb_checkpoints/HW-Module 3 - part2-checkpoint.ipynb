{
 "cells": [
  {
   "cell_type": "code",
   "execution_count": 1,
   "id": "5b3a2e32",
   "metadata": {},
   "outputs": [
    {
     "data": {
      "text/html": [
       "<div>\n",
       "<style scoped>\n",
       "    .dataframe tbody tr th:only-of-type {\n",
       "        vertical-align: middle;\n",
       "    }\n",
       "\n",
       "    .dataframe tbody tr th {\n",
       "        vertical-align: top;\n",
       "    }\n",
       "\n",
       "    .dataframe thead th {\n",
       "        text-align: right;\n",
       "    }\n",
       "</style>\n",
       "<table border=\"1\" class=\"dataframe\">\n",
       "  <thead>\n",
       "    <tr style=\"text-align: right;\">\n",
       "      <th></th>\n",
       "      <th>Ballot ID</th>\n",
       "      <th>County</th>\n",
       "      <th>Candidate</th>\n",
       "    </tr>\n",
       "  </thead>\n",
       "  <tbody>\n",
       "    <tr>\n",
       "      <th>0</th>\n",
       "      <td>1323913</td>\n",
       "      <td>Jefferson</td>\n",
       "      <td>Charles Casper Stockham</td>\n",
       "    </tr>\n",
       "    <tr>\n",
       "      <th>1</th>\n",
       "      <td>1005842</td>\n",
       "      <td>Jefferson</td>\n",
       "      <td>Charles Casper Stockham</td>\n",
       "    </tr>\n",
       "    <tr>\n",
       "      <th>2</th>\n",
       "      <td>1880345</td>\n",
       "      <td>Jefferson</td>\n",
       "      <td>Charles Casper Stockham</td>\n",
       "    </tr>\n",
       "    <tr>\n",
       "      <th>3</th>\n",
       "      <td>1600337</td>\n",
       "      <td>Jefferson</td>\n",
       "      <td>Charles Casper Stockham</td>\n",
       "    </tr>\n",
       "    <tr>\n",
       "      <th>4</th>\n",
       "      <td>1835994</td>\n",
       "      <td>Jefferson</td>\n",
       "      <td>Charles Casper Stockham</td>\n",
       "    </tr>\n",
       "  </tbody>\n",
       "</table>\n",
       "</div>"
      ],
      "text/plain": [
       "   Ballot ID     County                Candidate\n",
       "0    1323913  Jefferson  Charles Casper Stockham\n",
       "1    1005842  Jefferson  Charles Casper Stockham\n",
       "2    1880345  Jefferson  Charles Casper Stockham\n",
       "3    1600337  Jefferson  Charles Casper Stockham\n",
       "4    1835994  Jefferson  Charles Casper Stockham"
      ]
     },
     "execution_count": 1,
     "metadata": {},
     "output_type": "execute_result"
    }
   ],
   "source": [
    "import numpy as np\n",
    "import pandas as pd \n",
    "file_path = (\"Resources/election_data.csv\")\n",
    "df = pd.read_csv(file_path)\n",
    "df.head()"
   ]
  },
  {
   "cell_type": "code",
   "execution_count": 2,
   "id": "9d57c354",
   "metadata": {},
   "outputs": [
    {
     "name": "stdout",
     "output_type": "stream",
     "text": [
      "Ballot ID    False\n",
      "County       False\n",
      "Candidate    False\n",
      "dtype: bool\n"
     ]
    }
   ],
   "source": [
    "null_in_any_column = df.isnull().any()\n",
    "\n",
    "print(null_in_any_column)"
   ]
  },
  {
   "cell_type": "code",
   "execution_count": 3,
   "id": "bb3fe3e2",
   "metadata": {},
   "outputs": [
    {
     "data": {
      "text/plain": [
       "array(['Charles Casper Stockham', 'Diana DeGette', 'Raymon Anthony Doane'],\n",
       "      dtype=object)"
      ]
     },
     "execution_count": 3,
     "metadata": {},
     "output_type": "execute_result"
    }
   ],
   "source": [
    "unquie = df['Candidate'].unique()\n",
    "unquie"
   ]
  },
  {
   "cell_type": "code",
   "execution_count": 4,
   "id": "1317c00e",
   "metadata": {},
   "outputs": [
    {
     "data": {
      "text/plain": [
       "Diana DeGette              272892\n",
       "Charles Casper Stockham     85213\n",
       "Raymon Anthony Doane        11606\n",
       "Name: Candidate, dtype: int64"
      ]
     },
     "execution_count": 4,
     "metadata": {},
     "output_type": "execute_result"
    }
   ],
   "source": [
    "vote_namecount = df['Candidate'].value_counts()\n",
    "vote_namecount"
   ]
  },
  {
   "cell_type": "code",
   "execution_count": 5,
   "id": "e1f80b74",
   "metadata": {},
   "outputs": [
    {
     "data": {
      "text/plain": [
       "'Diana DeGette'"
      ]
     },
     "execution_count": 5,
     "metadata": {},
     "output_type": "execute_result"
    }
   ],
   "source": [
    "Winner = vote_namecount.idxmax()\n",
    "Winner"
   ]
  },
  {
   "cell_type": "code",
   "execution_count": 6,
   "id": "d28c01a1",
   "metadata": {},
   "outputs": [
    {
     "data": {
      "text/plain": [
       "Diana DeGette              0.738122\n",
       "Charles Casper Stockham    0.230485\n",
       "Raymon Anthony Doane       0.031392\n",
       "Name: Candidate, dtype: float64"
      ]
     },
     "execution_count": 6,
     "metadata": {},
     "output_type": "execute_result"
    }
   ],
   "source": [
    "vote_namecount2 = df['Candidate'].value_counts('Ballot ID')\n",
    "vote_namecount2"
   ]
  },
  {
   "cell_type": "code",
   "execution_count": 7,
   "id": "d84ca6f2",
   "metadata": {},
   "outputs": [
    {
     "data": {
      "text/plain": [
       "Diana DeGette              73.812%\n",
       "Charles Casper Stockham    23.049%\n",
       "Raymon Anthony Doane        3.139%\n",
       "Name: Candidate, dtype: object"
      ]
     },
     "execution_count": 7,
     "metadata": {},
     "output_type": "execute_result"
    }
   ],
   "source": [
    "vote_namecount3 = vote_namecount2.mul(100).round(3).astype(str) + '%'\n",
    "vote_namecount3"
   ]
  },
  {
   "cell_type": "code",
   "execution_count": 8,
   "id": "ac2a4755",
   "metadata": {},
   "outputs": [
    {
     "data": {
      "text/plain": [
       "1323913    1\n",
       "6316093    1\n",
       "5375112    1\n",
       "7870527    1\n",
       "7789364    1\n",
       "          ..\n",
       "7953257    1\n",
       "5932025    1\n",
       "5029501    1\n",
       "5113956    1\n",
       "4660518    1\n",
       "Name: Ballot ID, Length: 369711, dtype: int64"
      ]
     },
     "execution_count": 8,
     "metadata": {},
     "output_type": "execute_result"
    }
   ],
   "source": [
    "total_vote = df['Ballot ID'].value_counts()\n",
    "total_vote"
   ]
  },
  {
   "cell_type": "code",
   "execution_count": 9,
   "id": "2c9ca891",
   "metadata": {},
   "outputs": [
    {
     "name": "stdout",
     "output_type": "stream",
     "text": [
      "Total Votes: 369711\n"
     ]
    }
   ],
   "source": [
    "a = (f\"Total Votes: 369711\")\n",
    "print(a)"
   ]
  },
  {
   "cell_type": "code",
   "execution_count": 10,
   "id": "53f1bc62",
   "metadata": {},
   "outputs": [
    {
     "name": "stdout",
     "output_type": "stream",
     "text": [
      "Diana DeGette 73.812% (272892)\n"
     ]
    }
   ],
   "source": [
    "b = (f\"Diana DeGette\" +  \" 73.812%\" +  \" (272892)\")\n",
    "print(b)"
   ]
  },
  {
   "cell_type": "code",
   "execution_count": 11,
   "id": "633ee28b",
   "metadata": {},
   "outputs": [
    {
     "name": "stdout",
     "output_type": "stream",
     "text": [
      "Charles Casper Stockham 23.049% (85213)\n"
     ]
    }
   ],
   "source": [
    "c = (f\"Charles Casper Stockham\" + \" 23.049%\" + ' (85213)')\n",
    "print(c)"
   ]
  },
  {
   "cell_type": "code",
   "execution_count": 12,
   "id": "0a12ae16",
   "metadata": {},
   "outputs": [
    {
     "name": "stdout",
     "output_type": "stream",
     "text": [
      "Raymon Anthony Doane 3.139% (11606)\n"
     ]
    }
   ],
   "source": [
    "d = (f\"Raymon Anthony Doane\" + \" 3.139%\" + ' (11606)')\n",
    "print(d)"
   ]
  },
  {
   "cell_type": "code",
   "execution_count": 13,
   "id": "81ec9ac4",
   "metadata": {},
   "outputs": [
    {
     "name": "stdout",
     "output_type": "stream",
     "text": [
      "Winner: Diana DeGette\n"
     ]
    }
   ],
   "source": [
    "e = (f\"Winner: {Winner}\")\n",
    "print(e)"
   ]
  },
  {
   "cell_type": "code",
   "execution_count": 14,
   "id": "e0e65368",
   "metadata": {},
   "outputs": [
    {
     "name": "stdout",
     "output_type": "stream",
     "text": [
      "Election Results\n",
      "----------------------------\n",
      "Total Votes: 369711\n",
      "Diana DeGette 73.812% (272892)\n",
      "Charles Casper Stockham 23.049% (85213)\n",
      "Raymon Anthony Doane 3.139% (11606)\n",
      "Winner: Diana DeGette\n"
     ]
    }
   ],
   "source": [
    "result = [a, b, c, d, e]\n",
    "print(\"Election Results\")\n",
    "print(\"----------------------------\")\n",
    "for summary in result:\n",
    "    print(summary)"
   ]
  },
  {
   "cell_type": "code",
   "execution_count": 15,
   "id": "7cc0b746",
   "metadata": {},
   "outputs": [],
   "source": [
    "file_path = 'Election Results_EH.txt'"
   ]
  },
  {
   "cell_type": "code",
   "execution_count": 16,
   "id": "d3f93d51",
   "metadata": {},
   "outputs": [],
   "source": [
    "with open(file_path,'w') as file:\n",
    "     for summary in result:\n",
    "            file.write(summary + '\\n')\n",
    "        "
   ]
  },
  {
   "cell_type": "code",
   "execution_count": 17,
   "id": "9c211b55",
   "metadata": {},
   "outputs": [
    {
     "name": "stdout",
     "output_type": "stream",
     "text": [
      "List has been saved to Election Results_EH.txt\n"
     ]
    }
   ],
   "source": [
    "print(f\"List has been saved to {file_path}\")"
   ]
  },
  {
   "cell_type": "code",
   "execution_count": null,
   "id": "080e7906",
   "metadata": {},
   "outputs": [],
   "source": []
  }
 ],
 "metadata": {
  "kernelspec": {
   "display_name": "Python 3 (ipykernel)",
   "language": "python",
   "name": "python3"
  },
  "language_info": {
   "codemirror_mode": {
    "name": "ipython",
    "version": 3
   },
   "file_extension": ".py",
   "mimetype": "text/x-python",
   "name": "python",
   "nbconvert_exporter": "python",
   "pygments_lexer": "ipython3",
   "version": "3.11.4"
  }
 },
 "nbformat": 4,
 "nbformat_minor": 5
}
