{
 "cells": [
  {
   "cell_type": "code",
   "execution_count": 1,
   "id": "641be611",
   "metadata": {},
   "outputs": [
    {
     "name": "stdout",
     "output_type": "stream",
     "text": [
      "      Date  Profit/Losses\n",
      "0   Jan-10        1088983\n",
      "1   Feb-10        -354534\n",
      "2   Mar-10         276622\n",
      "3   Apr-10        -728133\n",
      "4   May-10         852993\n",
      "..     ...            ...\n",
      "81  Oct-16        -729004\n",
      "82  Nov-16        -112209\n",
      "83  Dec-16         516313\n",
      "84  Jan-17         607208\n",
      "85  Feb-17         382539\n",
      "\n",
      "[86 rows x 2 columns]\n"
     ]
    }
   ],
   "source": [
    "import numpy as np\n",
    "import pandas as pd \n",
    "file_path = (\"Resources/budget_data.csv\")\n",
    "df = pd.read_csv(file_path)\n",
    "print(df)    \n",
    " "
   ]
  },
  {
   "cell_type": "code",
   "execution_count": 2,
   "id": "d5058d89",
   "metadata": {},
   "outputs": [
    {
     "name": "stdout",
     "output_type": "stream",
     "text": [
      "Date             False\n",
      "Profit/Losses    False\n",
      "dtype: bool\n"
     ]
    }
   ],
   "source": [
    "null_in_any_column = df.isnull().any()\n",
    "\n",
    "print(null_in_any_column)"
   ]
  },
  {
   "cell_type": "code",
   "execution_count": 3,
   "id": "42d907e3",
   "metadata": {},
   "outputs": [
    {
     "data": {
      "text/plain": [
       "Jan-10    1\n",
       "Jul-14    1\n",
       "Mar-15    1\n",
       "Feb-15    1\n",
       "Jan-15    1\n",
       "         ..\n",
       "Apr-12    1\n",
       "Mar-12    1\n",
       "Feb-12    1\n",
       "Jan-12    1\n",
       "Feb-17    1\n",
       "Name: Date, Length: 86, dtype: int64"
      ]
     },
     "execution_count": 3,
     "metadata": {},
     "output_type": "execute_result"
    }
   ],
   "source": [
    "total_month = df['Date'].value_counts()\n",
    "total_month"
   ]
  },
  {
   "cell_type": "code",
   "execution_count": 4,
   "id": "579411a4",
   "metadata": {
    "scrolled": true
   },
   "outputs": [
    {
     "name": "stdout",
     "output_type": "stream",
     "text": [
      "86\n",
      "22564198\n",
      "262374.3953488372\n",
      "Mar-13 1141840\n",
      "Dec-10 -1194133\n"
     ]
    }
   ],
   "source": [
    "#Finding result\n",
    "num_rows = len(df)\n",
    "print(num_rows)\n",
    "\n",
    "total = df[\"Profit/Losses\"].sum()\n",
    "print(total)\n",
    "\n",
    "avg_pl = df[\"Profit/Losses\"].mean()\n",
    "print(avg_pl)\n",
    "\n",
    "max_pl = df[\"Profit/Losses\"].max()\n",
    "\n",
    "max_row = df.loc[df[\"Profit/Losses\"] == max_pl]\n",
    "\n",
    "max_row_string = max_row.to_string(header = False, index = False)\n",
    "\n",
    "print(max_row_string)\n",
    "\n",
    "min_pl = df[\"Profit/Losses\"].min()\n",
    "\n",
    "min_row = df.loc[df[\"Profit/Losses\"] == min_pl]\n",
    "\n",
    "min_row_string = min_row.to_string(header = False, index = False)\n",
    "print(min_row_string)\n"
   ]
  },
  {
   "cell_type": "code",
   "execution_count": 5,
   "id": "18608b52",
   "metadata": {},
   "outputs": [
    {
     "name": "stdout",
     "output_type": "stream",
     "text": [
      "262374.4\n"
     ]
    }
   ],
   "source": [
    "avg = avg_pl.round(2)\n",
    "print(avg)"
   ]
  },
  {
   "cell_type": "code",
   "execution_count": 6,
   "id": "0008c2f5",
   "metadata": {},
   "outputs": [],
   "source": [
    "\n",
    "a = (f\"Total Months: {num_rows}\")\n",
    "b = (f\"Total: {total}\")\n",
    "c = (f\"Average Change: {avg}\")\n",
    "d = (f\"Greatest increase in Profits: {max_row_string}\")\n",
    "e = (f\"Greatest Decrease in Profits: {min_row_string}\")"
   ]
  },
  {
   "cell_type": "code",
   "execution_count": 7,
   "id": "0a893bf5",
   "metadata": {},
   "outputs": [
    {
     "name": "stdout",
     "output_type": "stream",
     "text": [
      "Financial Analysis\n",
      "----------------------------\n",
      "Total Months: 86\n",
      "Total: 22564198\n",
      "Average Change: 262374.4\n",
      "Greatest increase in Profits: Mar-13 1141840\n",
      "Greatest Decrease in Profits: Dec-10 -1194133\n"
     ]
    }
   ],
   "source": [
    "fa = [a, b, c, d, e]\n",
    "print(\"Financial Analysis\")\n",
    "print(\"----------------------------\")\n",
    "for summary in fa:\n",
    "    print(summary)"
   ]
  },
  {
   "cell_type": "code",
   "execution_count": 8,
   "id": "7504d345",
   "metadata": {},
   "outputs": [],
   "source": [
    "file_path = 'Financial Analysis_EH.txt'"
   ]
  },
  {
   "cell_type": "code",
   "execution_count": 9,
   "id": "1871bd0a",
   "metadata": {},
   "outputs": [],
   "source": [
    "with open(file_path,'w') as file:\n",
    "     for summary in fa:\n",
    "            file.write(summary + '\\n')\n",
    "        "
   ]
  },
  {
   "cell_type": "code",
   "execution_count": 10,
   "id": "2e1230b9",
   "metadata": {},
   "outputs": [
    {
     "name": "stdout",
     "output_type": "stream",
     "text": [
      "List has been saved to Financial Analysis_EH.txt\n"
     ]
    }
   ],
   "source": [
    "print(f\"List has been saved to {file_path}\")"
   ]
  },
  {
   "cell_type": "code",
   "execution_count": null,
   "id": "c0766451",
   "metadata": {},
   "outputs": [],
   "source": []
  },
  {
   "cell_type": "code",
   "execution_count": null,
   "id": "7153371c",
   "metadata": {},
   "outputs": [],
   "source": []
  },
  {
   "cell_type": "code",
   "execution_count": null,
   "id": "46580286",
   "metadata": {},
   "outputs": [],
   "source": []
  },
  {
   "cell_type": "code",
   "execution_count": null,
   "id": "7b6c9dab",
   "metadata": {},
   "outputs": [],
   "source": []
  }
 ],
 "metadata": {
  "kernelspec": {
   "display_name": "Python 3 (ipykernel)",
   "language": "python",
   "name": "python3"
  },
  "language_info": {
   "codemirror_mode": {
    "name": "ipython",
    "version": 3
   },
   "file_extension": ".py",
   "mimetype": "text/x-python",
   "name": "python",
   "nbconvert_exporter": "python",
   "pygments_lexer": "ipython3",
   "version": "3.11.4"
  }
 },
 "nbformat": 4,
 "nbformat_minor": 5
}
